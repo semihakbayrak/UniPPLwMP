{
 "cells": [
  {
   "cell_type": "code",
   "execution_count": 1,
   "metadata": {},
   "outputs": [
    {
     "name": "stderr",
     "output_type": "stream",
     "text": [
      "┌ Info: Precompiling LargeMessageCollider [7f03d5f0-357e-4842-abc9-7001c0bc8a0e]\n",
      "└ @ Base loading.jl:1278\n",
      "┌ Warning: Package LargeMessageCollider does not have Random in its dependencies:\n",
      "│ - If you have LargeMessageCollider checked out for development and have\n",
      "│   added Random as a dependency but haven't updated your primary\n",
      "│   environment's manifest file, try `Pkg.resolve()`.\n",
      "│ - Otherwise you may need to report an issue with LargeMessageCollider\n",
      "└ Loading Random into LargeMessageCollider from project dependency, future warnings for LargeMessageCollider are suppressed.\n"
     ]
    }
   ],
   "source": [
    "using Distributions, LargeMessageCollider, Flux.Optimise"
   ]
  },
  {
   "cell_type": "code",
   "execution_count": 2,
   "metadata": {},
   "outputs": [
    {
     "data": {
      "text/plain": [
       "Normal{Float64}(μ=3.0, σ=0.8944271909999159)"
      ]
     },
     "execution_count": 2,
     "metadata": {},
     "output_type": "execute_result"
    }
   ],
   "source": [
    "p1 = Normal(0,1)\n",
    "p2 = Normal(15,2)\n",
    "p1*p2"
   ]
  },
  {
   "cell_type": "code",
   "execution_count": 11,
   "metadata": {},
   "outputs": [],
   "source": [
    "f1(x) = logpdf(p1,x)\n",
    "f2(x) = logpdf(p2,x)\n",
    "q = p1\n",
    "#q = Normal(10,2)\n",
    "η = [q.μ, q.σ]\n",
    "\n",
    "opt = ADAM()\n",
    "for t=1:50000\n",
    "    ∇ = fegradient(q,f1,f2)\n",
    "    η .-= 1/t * ∇\n",
    "    #η .-= 0.0001 * ∇\n",
    "    #update!(opt, η, ∇)\n",
    "    if η[2] < 0 η[2] = 0.01 end\n",
    "    q = Normal(η[1], η[2])\n",
    "end"
   ]
  },
  {
   "cell_type": "code",
   "execution_count": 12,
   "metadata": {},
   "outputs": [
    {
     "data": {
      "text/plain": [
       "2-element Array{Float64,1}:\n",
       " 3.0026456606377545\n",
       " 0.8900360402093161"
      ]
     },
     "execution_count": 12,
     "metadata": {},
     "output_type": "execute_result"
    }
   ],
   "source": [
    "η"
   ]
  },
  {
   "cell_type": "code",
   "execution_count": null,
   "metadata": {},
   "outputs": [],
   "source": []
  }
 ],
 "metadata": {
  "kernelspec": {
   "display_name": "Julia 1.5.3",
   "language": "julia",
   "name": "julia-1.5"
  },
  "language_info": {
   "file_extension": ".jl",
   "mimetype": "application/julia",
   "name": "julia",
   "version": "1.5.3"
  }
 },
 "nbformat": 4,
 "nbformat_minor": 4
}
